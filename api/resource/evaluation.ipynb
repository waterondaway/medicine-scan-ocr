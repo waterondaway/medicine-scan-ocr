{
 "cells": [
  {
   "cell_type": "markdown",
   "metadata": {},
   "source": [
    "# 😃 Evaluate OCR API with Specific Test Dataset"
   ]
  },
  {
   "cell_type": "markdown",
   "metadata": {},
   "source": [
    "## 🥸 Metrics for Evaluate"
   ]
  },
  {
   "cell_type": "code",
   "execution_count": 127,
   "metadata": {},
   "outputs": [],
   "source": [
    "import editdistance\n",
    "\n",
    "ground_truth = \"นายนนท์ปวิธ\"\n",
    "predicted_text = \"นายนนปวิธ\""
   ]
  },
  {
   "cell_type": "markdown",
   "metadata": {},
   "source": [
    "### 🥹 Character Error Rate"
   ]
  },
  {
   "cell_type": "code",
   "execution_count": 128,
   "metadata": {},
   "outputs": [
    {
     "name": "stdout",
     "output_type": "stream",
     "text": [
      "Character Error Rate (CER): 36.36%\n"
     ]
    }
   ],
   "source": [
    "total_chars = sum(len(gt) for gt in ground_truth)\n",
    "cer = sum(editdistance.eval(gt, pt) for gt, pt in zip(ground_truth, predicted_text)) / total_chars\n",
    "print(f\"Character Error Rate (CER): {cer * 100:.2f}%\")"
   ]
  },
  {
   "cell_type": "markdown",
   "metadata": {},
   "source": [
    "### 😉 Word Error Rate"
   ]
  },
  {
   "cell_type": "code",
   "execution_count": 129,
   "metadata": {},
   "outputs": [
    {
     "name": "stdout",
     "output_type": "stream",
     "text": [
      "Word Error Rate (WER): 36.36%\n"
     ]
    }
   ],
   "source": [
    "ground_words = [gt.split() for gt in ground_truth]\n",
    "predicted_words = [pt.split() for pt in predicted_text]\n",
    "total_words = sum(len(words) for words in ground_words)\n",
    "wer = sum(editdistance.eval(gt, pt) for gt, pt in zip(ground_words, predicted_words)) / total_words\n",
    "print(f\"Word Error Rate (WER): {wer * 100:.2f}%\")"
   ]
  },
  {
   "cell_type": "markdown",
   "metadata": {},
   "source": [
    "## 😈 OCR API from Google Vision API\n"
   ]
  },
  {
   "cell_type": "code",
   "execution_count": 130,
   "metadata": {},
   "outputs": [],
   "source": [
    "# Setting key\n",
    "import os\n",
    "os.environ[\"GOOGLE_APPLICATION_CREDENTIALS\"] = \"../keys/subtle-bus-443807-m7-63c3367e6ece.json\""
   ]
  },
  {
   "cell_type": "code",
   "execution_count": 131,
   "metadata": {},
   "outputs": [
    {
     "name": "stdout",
     "output_type": "stream",
     "text": [
      "ชื่อ สุไฮลัน สุวรรณหงษ์ บัตรประจำตัว 5518397643662 วันเกิด 27 ธันวาคม 2479 REG020 วันผลิต 2024-07-03 วันหมดอายุ 2027-03-06 CAPSULE PARACETAMOL 5mg ใช้ยาทาเพียงบางๆ นวดเบาๆ วันละ 1-2 ครั้ง ย รักษาภาวะติดเชื้อผิวหนัง ห้ามใช้ในหญิงตั้งครรภ์\n"
     ]
    }
   ],
   "source": [
    "from google.cloud import vision\n",
    "import io\n",
    "\n",
    "def detect_text(image_path):\n",
    "    # Create client for Google Vision\n",
    "    client = vision.ImageAnnotatorClient()\n",
    "    # Load image\n",
    "    with io.open(image_path, 'rb') as image_file:\n",
    "        content = image_file.read()\n",
    "    image = vision.Image(content=content)\n",
    "    # Calling OCR function\n",
    "    response = client.text_detection(image=image)\n",
    "    texts = response.text_annotations\n",
    "    if response.error.message:\n",
    "        raise Exception(f\"API Error: {response.error.message}\")\n",
    "    return texts[0].description \n",
    "\n",
    "# Calling detect_text()\n",
    "predicted_text = detect_text(\"../../assets/output/angsa_2.png\")\n",
    "print(predicted_text.replace('\\n', ' '))"
   ]
  },
  {
   "cell_type": "code",
   "execution_count": 132,
   "metadata": {},
   "outputs": [
    {
     "name": "stdout",
     "output_type": "stream",
     "text": [
      "ชื่อ สุไฮลัน สุวรรณหงษ์ บัตรประจำตัว 5518397643662 วันเกิด 27 ธันวาคม 2479 REG020 วันผลิต 2024-07-03 วันหมดอายุ 2027-03-06 PARACETAMOL 5mg CAPSULE ใช้ยาทาเพียงบางๆ นวดเบาๆ วันละ 1-2 ครั้ง รักษาภาวะติดเชื้อผิวหนัง ห้ามใช้ในหญิงตั้งครรภ์ \n"
     ]
    }
   ],
   "source": [
    "with open(\"../../assets/output/angsa_2.txt\", encoding=\"utf-8\") as file:\n",
    "        ground_truth_text = file.read()\n",
    "print(ground_truth_text.replace('\\n', ' '))"
   ]
  },
  {
   "cell_type": "code",
   "execution_count": 133,
   "metadata": {},
   "outputs": [
    {
     "name": "stdout",
     "output_type": "stream",
     "text": [
      "CER: 8.05%\n"
     ]
    }
   ],
   "source": [
    "# Function to calculate Character Error Rate\n",
    "def calculate_cer(predicted_text, ground_truth_text):\n",
    "    return editdistance.eval(predicted_text, ground_truth_text) / len(ground_truth_text)\n",
    "\n",
    "cer = calculate_cer(predicted_text.replace('\\n', ' '), ground_truth_text.replace('\\n', ' '))\n",
    "print(f\"CER: {cer:.2%}\")"
   ]
  },
  {
   "cell_type": "code",
   "execution_count": 134,
   "metadata": {},
   "outputs": [
    {
     "name": "stdout",
     "output_type": "stream",
     "text": [
      "Average CER: 10.39%\n"
     ]
    }
   ],
   "source": [
    "sum_character_error_rate = 0\n",
    "\n",
    "for i in range(10):\n",
    "    predicted_text = detect_text(f\"../../assets/output/angsa_{i}.png\")\n",
    "    with open(f\"../../assets/output/angsa_{i}.txt\", encoding=\"utf-8\") as file:\n",
    "        ground_truth_text = file.read()\n",
    "    cer = calculate_cer(predicted_text.replace('\\n', ' '), ground_truth_text.replace('\\n', ' '))\n",
    "    sum_character_error_rate += cer\n",
    "\n",
    "average_character_error_rate = sum_character_error_rate/10\n",
    "print(f\"Average CER: {cer:.2%}\")"
   ]
  },
  {
   "cell_type": "markdown",
   "metadata": {},
   "source": [
    "## 😈 OCR API from PyTesseract\n"
   ]
  },
  {
   "cell_type": "code",
   "execution_count": 135,
   "metadata": {},
   "outputs": [],
   "source": [
    "import pytesseract\n",
    "from PIL import Image\n",
    "\n",
    "def ocr_image(image_path, lang='tha+eng'):\n",
    "    # Load Image\n",
    "    image = Image.open(image_path)\n",
    "    # Calling OCR function\n",
    "    text = pytesseract.image_to_string(image, lang=lang)\n",
    "    return text"
   ]
  },
  {
   "cell_type": "code",
   "execution_count": 136,
   "metadata": {},
   "outputs": [
    {
     "name": "stdout",
     "output_type": "stream",
     "text": [
      "ชื่อ สุไฮลัน สุวรรณหงษ์             REG020 บัตรประจําตัว 5518397643662      วันผลิต 2024-07-03  วันเกิด 27 ธันวาคม 2479           วันหมดอายุ 2027-03-06  PARACETAMOL  5mg         CAPSULE ใช้ยาทาเพียงบางๆ นวดเบาๆ วันละ 1-2 ครั้ง รักษาภาวะติดเชือผิวหนัง  2 ห้ามใช้ในหญิงตั้งครรภ์ \n"
     ]
    }
   ],
   "source": [
    "print(ocr_image(\"../../assets/output/angsa_2.png\").replace('\\n', ' '))"
   ]
  },
  {
   "cell_type": "code",
   "execution_count": 137,
   "metadata": {},
   "outputs": [
    {
     "name": "stdout",
     "output_type": "stream",
     "text": [
      "ชื่อ สุไฮลัน สุวรรณหงษ์ บัตรประจำตัว 5518397643662 วันเกิด 27 ธันวาคม 2479 REG020 วันผลิต 2024-07-03 วันหมดอายุ 2027-03-06 PARACETAMOL 5mg CAPSULE ใช้ยาทาเพียงบางๆ นวดเบาๆ วันละ 1-2 ครั้ง รักษาภาวะติดเชื้อผิวหนัง ห้ามใช้ในหญิงตั้งครรภ์ \n"
     ]
    }
   ],
   "source": [
    "with open(\"../../assets/output/angsa_2.txt\", encoding=\"utf-8\") as file:\n",
    "        ground_truth_text = file.read()\n",
    "print(ground_truth_text.replace('\\n',' '))"
   ]
  },
  {
   "cell_type": "code",
   "execution_count": 138,
   "metadata": {},
   "outputs": [
    {
     "name": "stdout",
     "output_type": "stream",
     "text": [
      "Average CER: 67.53%\n"
     ]
    }
   ],
   "source": [
    "sum_character_error_rate = 0\n",
    "\n",
    "for i in range(10):\n",
    "    predicted_text = ocr_image(f\"../../assets/output/angsa_{i}.png\")\n",
    "    with open(f\"../../assets/output/angsa_{i}.txt\", encoding=\"utf-8\") as file:\n",
    "        ground_truth_text = file.read()\n",
    "    cer = calculate_cer(predicted_text.replace('\\n', ' '), ground_truth_text.replace('\\n', ' '))\n",
    "    sum_character_error_rate += cer\n",
    "\n",
    "average_character_error_rate = sum_character_error_rate/10\n",
    "print(f\"Average CER: {cer:.2%}\")"
   ]
  },
  {
   "cell_type": "code",
   "execution_count": null,
   "metadata": {},
   "outputs": [],
   "source": []
  }
 ],
 "metadata": {
  "kernelspec": {
   "display_name": ".venv",
   "language": "python",
   "name": "python3"
  },
  "language_info": {
   "codemirror_mode": {
    "name": "ipython",
    "version": 3
   },
   "file_extension": ".py",
   "mimetype": "text/x-python",
   "name": "python",
   "nbconvert_exporter": "python",
   "pygments_lexer": "ipython3",
   "version": "3.13.1"
  }
 },
 "nbformat": 4,
 "nbformat_minor": 2
}
