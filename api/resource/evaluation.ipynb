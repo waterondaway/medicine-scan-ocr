{
 "cells": [
  {
   "cell_type": "markdown",
   "metadata": {},
   "source": [
    "# 😃 Evaluate OCR API with Specific Test Dataset"
   ]
  },
  {
   "cell_type": "markdown",
   "metadata": {},
   "source": [
    "## 🥸 Metrics for Evaluate"
   ]
  },
  {
   "cell_type": "code",
   "execution_count": 6,
   "metadata": {},
   "outputs": [],
   "source": [
    "import editdistance\n",
    "\n",
    "ground_truth = \"นายนนท์ปวิธ เป็นนักศึกษา\"\n",
    "predicted_text = \"นายนนปวิธ เป็น\""
   ]
  },
  {
   "cell_type": "markdown",
   "metadata": {},
   "source": [
    "### 🥹 Character Error Rate"
   ]
  },
  {
   "cell_type": "code",
   "execution_count": 7,
   "metadata": {},
   "outputs": [
    {
     "name": "stdout",
     "output_type": "stream",
     "text": [
      "Character Error Rate (CER): 37.50%\n"
     ]
    }
   ],
   "source": [
    "total_chars = sum(len(gt) for gt in ground_truth)\n",
    "cer = sum(editdistance.eval(gt, pt) for gt, pt in zip(ground_truth, predicted_text)) / total_chars\n",
    "print(f\"Character Error Rate (CER): {cer * 100:.2f}%\")"
   ]
  },
  {
   "cell_type": "markdown",
   "metadata": {},
   "source": [
    "### 😉 Word Error Rate"
   ]
  },
  {
   "cell_type": "code",
   "execution_count": 8,
   "metadata": {},
   "outputs": [
    {
     "name": "stdout",
     "output_type": "stream",
     "text": [
      "Word Error Rate (WER): 39.13%\n"
     ]
    }
   ],
   "source": [
    "ground_words = [gt.split() for gt in ground_truth]\n",
    "predicted_words = [pt.split() for pt in predicted_text]\n",
    "total_words = sum(len(words) for words in ground_words)\n",
    "wer = sum(editdistance.eval(gt, pt) for gt, pt in zip(ground_words, predicted_words)) / total_words\n",
    "print(f\"Word Error Rate (WER): {wer * 100:.2f}%\")"
   ]
  },
  {
   "cell_type": "code",
   "execution_count": 9,
   "metadata": {},
   "outputs": [],
   "source": [
    "from editdistance import eval as edit_distance\n",
    "def calculate_wer(predicted_text, ground_truth_text):\n",
    "    # Split texts into lists of words\n",
    "    predicted_words = predicted_text.split()\n",
    "    ground_truth_words = ground_truth_text.split()\n",
    "    \n",
    "    # Calculate edit distance between word lists\n",
    "    distance = edit_distance(predicted_words, ground_truth_words)\n",
    "    \n",
    "    # Calculate WER\n",
    "    wer = distance / len(ground_truth_words)\n",
    "    return wer"
   ]
  },
  {
   "cell_type": "markdown",
   "metadata": {},
   "source": [
    "## 😈 OCR API from Google Vision API\n"
   ]
  },
  {
   "cell_type": "code",
   "execution_count": 10,
   "metadata": {},
   "outputs": [],
   "source": [
    "# Setting key\n",
    "import os\n",
    "os.environ[\"GOOGLE_APPLICATION_CREDENTIALS\"] = \"../keys/subtle-bus-443807-m7-801043491063.json\""
   ]
  },
  {
   "cell_type": "code",
   "execution_count": 11,
   "metadata": {},
   "outputs": [
    {
     "name": "stdout",
     "output_type": "stream",
     "text": [
      "ชื่อ รัฐพงษ์ บินดี บัตรประจำตัว 1588486511756 REG014 วันผลิต 2024-09-29 วันหมดอายุ 2026-09-05 วันเกิด 20 มีนาคม 2524 คาร์บามาซีพีน 200mg เม็ดอมใต้ลิ้น ใช้ทาในเวลากลางคืนก่อนนอน บรรเทาอาการอักเสบ หากมีอาการปวดศีรษะรุนแรง ควรหยุดยา\n"
     ]
    }
   ],
   "source": [
    "from google.cloud import vision\n",
    "import io\n",
    "\n",
    "def detect_text(image_path):\n",
    "    # Create client for Google Vision\n",
    "    client = vision.ImageAnnotatorClient()\n",
    "    # Load image\n",
    "    with io.open(image_path, 'rb') as image_file:\n",
    "        content = image_file.read()\n",
    "    image = vision.Image(content=content)\n",
    "    # Calling OCR function\n",
    "    response = client.text_detection(image=image)\n",
    "    texts = response.text_annotations\n",
    "    if response.error.message:\n",
    "        raise Exception(f\"API Error: {response.error.message}\")\n",
    "    return texts[0].description \n",
    "\n",
    "# Calling detect_text()\n",
    "predicted_text = detect_text(\"../../assets/output/angsa_1_augmented.png\")\n",
    "print(predicted_text.replace('\\n', ' '))"
   ]
  },
  {
   "cell_type": "code",
   "execution_count": 12,
   "metadata": {},
   "outputs": [
    {
     "name": "stdout",
     "output_type": "stream",
     "text": [
      "ชื่อ รัฐพงษ์ บินดี บัตรประจำตัว 1588486511756 วันเกิด 20 มีนาคม 2524 REG014 วันผลิต 2024-09-29 วันหมดอายุ 2026-09-05 คาร์บามาซีพีน 200mg เม็ดอมใต้ลิ้น ใช้ทาในเวลากลางคืนก่อนนอน บรรเทาอาการอักเสบ หากมีอาการปวดศีรษะรุนแรง ควรหยุดยา \n"
     ]
    }
   ],
   "source": [
    "with open(\"../../assets/output/angsa_1.txt\", encoding=\"utf-8\") as file:\n",
    "        ground_truth_text = file.read()\n",
    "print(ground_truth_text.replace('\\n', ' '))"
   ]
  },
  {
   "cell_type": "code",
   "execution_count": 13,
   "metadata": {},
   "outputs": [
    {
     "name": "stdout",
     "output_type": "stream",
     "text": [
      "CER: 20.43% | WER: 38.10%\n"
     ]
    }
   ],
   "source": [
    "# Function to calculate Character Error Rate\n",
    "def calculate_cer(predicted_text, ground_truth_text):\n",
    "    return editdistance.eval(predicted_text, ground_truth_text) / len(ground_truth_text)\n",
    "\n",
    "cer = calculate_cer(predicted_text.replace('\\n', ' '), ground_truth_text.replace('\\n', ' '))\n",
    "wer = calculate_wer(predicted_text.replace('\\n', ' '), ground_truth_text.replace('\\n', ' '))\n",
    "print(f\"CER: {cer:.2%} | WER: {wer:.2%}\")"
   ]
  },
  {
   "cell_type": "code",
   "execution_count": 14,
   "metadata": {},
   "outputs": [
    {
     "name": "stdout",
     "output_type": "stream",
     "text": [
      "Average CER: 14.40% | Average WER: 16.00%\n"
     ]
    }
   ],
   "source": [
    "sum_character_error_rate = 0\n",
    "sum_word_error_rate = 0\n",
    "\n",
    "for i in range(1,51):\n",
    "    predicted_text = detect_text(f\"../../assets/output/angsa_{i}_augmented.png\")\n",
    "    with open(f\"../../assets/output/angsa_{i}.txt\", encoding=\"utf-8\") as file:\n",
    "        ground_truth_text = file.read()\n",
    "    cer = calculate_cer(predicted_text.replace('\\n', ' '), ground_truth_text.replace('\\n', ' '))\n",
    "    wer = calculate_wer(predicted_text.replace('\\n', ' '), ground_truth_text.replace('\\n', ' '))\n",
    "    sum_character_error_rate += cer\n",
    "    sum_word_error_rate += wer\n",
    "average_character_error_rate = sum_character_error_rate/10\n",
    "average_sum_word_error_rate = sum_word_error_rate/10\n",
    "print(f\"Average CER: {cer:.2%} | Average WER: {wer:.2%}\")"
   ]
  },
  {
   "cell_type": "markdown",
   "metadata": {},
   "source": [
    "## 😈 OCR API from PyTesseract\n"
   ]
  },
  {
   "cell_type": "code",
   "execution_count": 15,
   "metadata": {},
   "outputs": [],
   "source": [
    "import pytesseract\n",
    "from PIL import Image\n",
    "\n",
    "def ocr_image(image_path, lang='tha+eng'):\n",
    "    # Load Image\n",
    "    image = Image.open(image_path)\n",
    "    # Calling OCR function\n",
    "    text = pytesseract.image_to_string(image, lang=lang)\n",
    "    return text"
   ]
  },
  {
   "cell_type": "code",
   "execution_count": 47,
   "metadata": {},
   "outputs": [
    {
     "name": "stdout",
     "output_type": "stream",
     "text": [
      "REGO13  \n"
     ]
    }
   ],
   "source": [
    "print(ocr_image(\"../../assets/output/angsa_1_augmented.png\").replace('\\n', ' '))"
   ]
  },
  {
   "cell_type": "code",
   "execution_count": 46,
   "metadata": {},
   "outputs": [
    {
     "name": "stdout",
     "output_type": "stream",
     "text": [
      "ชื่อ ณาร์รีมาน เตมิยะเดช บัตรประจำตัว 7493515973128 วันเกิด 13 กุมภาพันธ์ 2525 REG013 วันผลิต 2024-05-25 วันหมดอายุ 2026-01-23 CLARITHROMYCIN 250mg TABLET รับประทานวันละ 1 เม็ดหลังมื้อกลางวัน ลดน้ำตาลในเลือด ควรใช้ยาในปริมาณที่ถูกต้อง \n"
     ]
    }
   ],
   "source": [
    "with open(\"../../assets/output/angsa_1.txt\", encoding=\"utf-8\") as file:\n",
    "        ground_truth_text = file.read()\n",
    "print(ground_truth_text.replace('\\n',' '))"
   ]
  },
  {
   "cell_type": "code",
   "execution_count": 16,
   "metadata": {},
   "outputs": [
    {
     "name": "stdout",
     "output_type": "stream",
     "text": [
      "1\n",
      "2\n",
      "3\n",
      "4\n",
      "5\n",
      "6\n",
      "7\n",
      "8\n",
      "9\n",
      "10\n",
      "11\n",
      "12\n",
      "13\n",
      "14\n",
      "15\n",
      "16\n",
      "17\n",
      "18\n",
      "19\n",
      "20\n",
      "21\n",
      "22\n",
      "23\n",
      "24\n",
      "25\n",
      "26\n",
      "27\n",
      "28\n",
      "29\n",
      "30\n",
      "31\n",
      "32\n",
      "33\n",
      "34\n",
      "35\n",
      "36\n",
      "37\n",
      "38\n",
      "39\n",
      "40\n",
      "41\n",
      "42\n",
      "43\n",
      "44\n",
      "45\n",
      "46\n",
      "47\n",
      "48\n",
      "49\n",
      "50\n",
      "Average CER: 36.21% | Average WER: 44.00%\n"
     ]
    }
   ],
   "source": [
    "sum_character_error_rate = 0\n",
    "sum_word_error_rate = 0\n",
    "for i in range(1,51):\n",
    "    print(i)\n",
    "    predicted_text = ocr_image(f\"../../assets/output/angsa_{i}_augmented.png\")\n",
    "    with open(f\"../../assets/output/angsa_{i}.txt\", encoding=\"utf-8\") as file:\n",
    "        ground_truth_text = file.read()\n",
    "    cer = calculate_cer(predicted_text.replace('\\n', ' '), ground_truth_text.replace('\\n', ' '))\n",
    "    wer = calculate_wer(predicted_text.replace('\\n', ' '), ground_truth_text.replace('\\n', ' '))\n",
    "    sum_character_error_rate += cer\n",
    "    sum_word_error_rate += wer\n",
    "\n",
    "average_character_error_rate = sum_character_error_rate/10\n",
    "average_sum_word_error_rate = sum_word_error_rate/10\n",
    "print(f\"Average CER: {cer:.2%} | Average WER: {wer:.2%}\")"
   ]
  }
 ],
 "metadata": {
  "kernelspec": {
   "display_name": ".venv",
   "language": "python",
   "name": "python3"
  },
  "language_info": {
   "codemirror_mode": {
    "name": "ipython",
    "version": 3
   },
   "file_extension": ".py",
   "mimetype": "text/x-python",
   "name": "python",
   "nbconvert_exporter": "python",
   "pygments_lexer": "ipython3",
   "version": "3.13.1"
  }
 },
 "nbformat": 4,
 "nbformat_minor": 2
}
