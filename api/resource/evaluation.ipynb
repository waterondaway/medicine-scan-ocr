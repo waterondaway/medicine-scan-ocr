{
 "cells": [
  {
   "cell_type": "markdown",
   "metadata": {},
   "source": [
    "# 😃 Evaluate OCR API with Specific Test Dataset"
   ]
  },
  {
   "cell_type": "code",
   "execution_count": 6,
   "metadata": {},
   "outputs": [
    {
     "name": "stdout",
     "output_type": "stream",
     "text": [
      "Character Error Rate (CER): 0.00%\n"
     ]
    }
   ],
   "source": [
    "import editdistance\n",
    "\n",
    "# ตัวอย่าง Ground Truth และ Predicted Text\n",
    "ground_truth = [\"ยาพาราเซตามอล 500 มก.\"]\n",
    "predicted_text = [\"ยาพาราเซตามอล 500 มก\"]\n",
    "\n",
    "# คำนวณ CER\n",
    "total_chars = sum(len(gt) for gt in ground_truth)\n",
    "cer = sum(editdistance.eval(gt, pt) for gt, pt in zip(ground_truth, predicted_text)) / total_chars\n",
    "print(f\"Character Error Rate (CER): {cer * 100:.2f}%\")\n",
    "\n",
    "# คำนวณ WER\n",
    "ground_words = [gt.split() for gt in ground_truth]\n",
    "predicted_words = [pt.split() for pt in predicted_text]\n",
    "total_words = sum(len(words) for words in ground_words)\n",
    "wer = sum(editdistance.eval(gt, pt) for gt, pt in zip(ground_words, predicted_words)) / total_words\n",
    "print(f\"Word Error Rate (WER): {wer * 100:.2f}%\")"
   ]
  }
 ],
 "metadata": {
  "kernelspec": {
   "display_name": ".venv",
   "language": "python",
   "name": "python3"
  },
  "language_info": {
   "codemirror_mode": {
    "name": "ipython",
    "version": 3
   },
   "file_extension": ".py",
   "mimetype": "text/x-python",
   "name": "python",
   "nbconvert_exporter": "python",
   "pygments_lexer": "ipython3",
   "version": "3.13.1"
  }
 },
 "nbformat": 4,
 "nbformat_minor": 2
}
