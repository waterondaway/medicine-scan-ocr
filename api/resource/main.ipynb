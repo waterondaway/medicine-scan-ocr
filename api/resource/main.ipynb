{
 "cells": [
  {
   "cell_type": "markdown",
   "metadata": {},
   "source": [
    "# OCR API from Google Vision API"
   ]
  },
  {
   "cell_type": "markdown",
   "metadata": {},
   "source": [
    "### Setup Keys"
   ]
  },
  {
   "cell_type": "code",
   "execution_count": 3,
   "metadata": {},
   "outputs": [],
   "source": [
    "import os\n",
    "os.environ[\"GOOGLE_APPLICATION_CREDENTIALS\"] = \"../keys/subtle-bus-443807-m7-63c3367e6ece.json\""
   ]
  },
  {
   "cell_type": "markdown",
   "metadata": {},
   "source": [
    "### Execution"
   ]
  },
  {
   "cell_type": "code",
   "execution_count": 5,
   "metadata": {},
   "outputs": [
    {
     "name": "stdout",
     "output_type": "stream",
     "text": [
      "ชื่อ นนท์ปวิธ ศิลาบำรุงราษฎร์\n",
      "บัตรประจำตัว 1234567890123\n",
      "วันเกิด 14 ตุลาคม 2546\n",
      "PARACETAMOL 500 MG.\n",
      "HN 00001\n",
      "วันผลิต 28/11/2024\n",
      "วันหมดอายุ 28/11/2024\n",
      "TABLET\n",
      "รับประทาน ครั้งละ 1 เม็ด ห่างกันอย่างน้อย 6 ชั่วโมง\n",
      "ใช้ลดไข้ แก้ปวด\n",
      "ห้ามใช้เกิน 8 เม็ดต่อวันเพราะอาจเป็นพิษต่อตับ\n"
     ]
    }
   ],
   "source": [
    "from google.cloud import vision\n",
    "import io\n",
    "\n",
    "def detect_text(image_path):\n",
    "    # Create client for Google Vision\n",
    "    client = vision.ImageAnnotatorClient()\n",
    "    # Load image\n",
    "    with io.open(image_path, 'rb') as image_file:\n",
    "        content = image_file.read()\n",
    "    image = vision.Image(content=content)\n",
    "    # Calling OCR function\n",
    "    response = client.text_detection(image=image)\n",
    "    texts = response.text_annotations\n",
    "    print(texts[0].description)\n",
    "    if response.error.message:\n",
    "        raise Exception(f\"API Error: {response.error.message}\")\n",
    "\n",
    "# Calling detect_text()\n",
    "detect_text(\"../../assets/template/template_image.png\")"
   ]
  },
  {
   "cell_type": "markdown",
   "metadata": {},
   "source": [
    "# OCR API from Pytesseract"
   ]
  },
  {
   "cell_type": "markdown",
   "metadata": {},
   "source": [
    "### Installation\n",
    "\n",
    "- runs command 'brew install pytesseract' to install pytersseract\n",
    "- runs command 'brew install tesseract-lang' to install thai-lang \n",
    "- runs command 'pip3 install pytesseract' to install pytersseract to .venv"
   ]
  },
  {
   "cell_type": "markdown",
   "metadata": {},
   "source": [
    "### Execution"
   ]
  },
  {
   "cell_type": "code",
   "execution_count": 6,
   "metadata": {},
   "outputs": [
    {
     "name": "stdout",
     "output_type": "stream",
     "text": [
      "ซือ นนท์ปวิธ ศิลาบํารุงราษฎร์       HN 00001\n",
      "บัตรประจําตัว 1234567890123 กวันผลิต 28/11/2024\n",
      "\n",
      "คันเกิด 14 ตุลาคม 2546            จันหมดอายุ 28/11/2024\n",
      "\n",
      "PARACETAMOL 500 MG.     TABLET\n",
      "รับประทาน ครังละ 1 เม็ด หางกันอยางนอย 6 ชัวโมง\n",
      "ใชลดไข แกปวด\n",
      "\n",
      "หามใชเกิน 8 เม็ดตอวันเพราะอาจเป็นพิษตอตับ\n",
      "\n"
     ]
    }
   ],
   "source": [
    "import pytesseract\n",
    "from PIL import Image\n",
    "\n",
    "def ocr_image(image_path, lang='tha+eng'):\n",
    "    # Load Image\n",
    "    image = Image.open(image_path)\n",
    "    # Calling OCR function\n",
    "    text = pytesseract.image_to_string(image, lang=lang)\n",
    "    return text\n",
    "\n",
    "print(ocr_image('../../assets/template/template_image.png'))"
   ]
  }
 ],
 "metadata": {
  "kernelspec": {
   "display_name": ".venv",
   "language": "python",
   "name": "python3"
  },
  "language_info": {
   "codemirror_mode": {
    "name": "ipython",
    "version": 3
   },
   "file_extension": ".py",
   "mimetype": "text/x-python",
   "name": "python",
   "nbconvert_exporter": "python",
   "pygments_lexer": "ipython3",
   "version": "3.13.1"
  }
 },
 "nbformat": 4,
 "nbformat_minor": 2
}
